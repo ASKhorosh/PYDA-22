{
 "cells": [
  {
   "cell_type": "markdown",
   "id": "1803274f",
   "metadata": {},
   "source": [
    "# Задание 1"
   ]
  },
  {
   "cell_type": "markdown",
   "id": "58e066f3",
   "metadata": {},
   "source": [
    "Дана переменная, в которой хранится словарь, содержащий гео-метки для каждого пользователя (пример структуры данных приведен ниже). Вам необходимо написать программу, которая выведет на экран множество уникальных гео-меток всех пользователей."
   ]
  },
  {
   "cell_type": "code",
   "execution_count": 23,
   "id": "26f7323a",
   "metadata": {},
   "outputs": [
    {
     "name": "stdout",
     "output_type": "stream",
     "text": [
      "{98, 35, 15, 213, 54, 119}\n"
     ]
    }
   ],
   "source": [
    "ids = {'user1': [213, 213, 213, 15, 213], \n",
    "       'user2': [54, 54, 119, 119, 119], \n",
    "       'user3': [213, 98, 98, 35]}\n",
    "list_ids = list (ids.values())\n",
    "#print (list_ids)\n",
    "for i in range (len(list_ids)):\n",
    "    set_ids = set_ids | set (list_ids[i])\n",
    "print (set_ids)"
   ]
  },
  {
   "cell_type": "markdown",
   "id": "f2f72dfa",
   "metadata": {},
   "source": [
    "# Задание 2"
   ]
  },
  {
   "cell_type": "markdown",
   "id": "14d26d8d",
   "metadata": {},
   "source": [
    "Дана переменная, в которой хранится список поисковых запросов пользователя (пример структуры данных приведен ниже). Вам необходимо написать программу, которая выведет на экран распределение количества слов в запросах в требуемом виде."
   ]
  },
  {
   "cell_type": "code",
   "execution_count": 46,
   "id": "990230e0",
   "metadata": {},
   "outputs": [
    {
     "name": "stdout",
     "output_type": "stream",
     "text": [
      "Поисковых запросов, содержащих 3 слов(а): 50.0%\n",
      "Поисковых запросов, содержащих 2 слов(а): 37.5%\n",
      "Поисковых запросов, содержащих 6 слов(а): 12.5%\n"
     ]
    }
   ],
   "source": [
    "queries = [\n",
    "    'смотреть сериалы онлайн',\n",
    "    'новости спорта',\n",
    "    'афиша кино',\n",
    "    'курс доллара',\n",
    "    'сериалы этим летом',\n",
    "    'курс по питону',\n",
    "    'сериалы про спорт',\n",
    "    'как перестать тупить в домашней работе'\n",
    "]\n",
    "# % = количество слов / длину списка * 100 \n",
    "dict_len = {}\n",
    "for query in queries:\n",
    "    query_list = query.split() #разбираем массив на отдельные списки\n",
    "    #print (query_list)\n",
    "    if len(query_list)  not in dict_len.keys(): #создаем словарь вариантов количеств слов из запросов\n",
    "        dict_len.update({len(query_list): 1 })\n",
    "    else:\n",
    "        dict_len[len(query_list)] = dict_len[len(query_list)] + 1\n",
    "#print (dict_len)\n",
    "\n",
    "for word_count, value_count in dict_len.items(): #вывод результатов\n",
    "    percent = round((value_count / len(queries)) * 100, 2)\n",
    "    print(f'Поисковых запросов, содержащих {word_count} слов(а): {percent}%')"
   ]
  },
  {
   "cell_type": "markdown",
   "id": "79602403",
   "metadata": {},
   "source": [
    "# Задание 3"
   ]
  },
  {
   "cell_type": "markdown",
   "id": "83bab73f",
   "metadata": {},
   "source": [
    "Дана переменная, в которой хранится информация о затратах и доходе рекламных кампаний по различным источникам. Необходимо дополнить исходную структуру показателем ROI, который рассчитаем по формуле: (revenue / cost - 1) * 100"
   ]
  },
  {
   "cell_type": "code",
   "execution_count": 119,
   "id": "999397f1",
   "metadata": {},
   "outputs": [
    {
     "name": "stdout",
     "output_type": "stream",
     "text": [
      "{'vk': {'revenue': 103, 'cost': 98, 'ROI': 5.1}, 'yandex': {'revenue': 179, 'cost': 153, 'ROI': 16.99}, 'facebook': {'revenue': 103, 'cost': 110, 'ROI': -6.36}, 'adwords': {'revenue': 35, 'cost': 34, 'ROI': 2.94}, 'twitter': {'revenue': 11, 'cost': 24, 'ROI': -54.17}}\n"
     ]
    }
   ],
   "source": [
    "results = {\n",
    "    'vk': {'revenue': 103, 'cost': 98},\n",
    "    'yandex': {'revenue': 179, 'cost': 153},\n",
    "    'facebook': {'revenue': 103, 'cost': 110},\n",
    "    'adwords': {'revenue': 35, 'cost': 34},\n",
    "    'twitter': {'revenue': 11, 'cost': 24},\n",
    "}\n",
    "#ROI = (revenue / cost - 1) * 100\n",
    "for value_ROI in results.values():\n",
    "    ROI = round((value_ROI['revenue'] / value_ROI['cost'] - 1) * 100, 2)\n",
    "    value_ROI['ROI'] = ROI\n",
    "    #print(value_ROI)\n",
    "\n",
    "print(results)"
   ]
  },
  {
   "cell_type": "markdown",
   "id": "fc16f20f",
   "metadata": {},
   "source": [
    "# Задание 4"
   ]
  },
  {
   "cell_type": "markdown",
   "id": "a9c00721",
   "metadata": {},
   "source": [
    "Дана переменная, в которой хранится статистика рекламных каналов по объемам продаж (пример структуры данных приведен ниже). Напишите программу, которая возвращает название канала с максимальным объемом продаж."
   ]
  },
  {
   "cell_type": "code",
   "execution_count": 163,
   "id": "f9ff6566",
   "metadata": {},
   "outputs": [
    {
     "name": "stdout",
     "output_type": "stream",
     "text": [
      "Максимальный объем продаж на канале:  google\n"
     ]
    }
   ],
   "source": [
    "stats = {'facebook': 55, 'yandex': 115, 'vk': 120, 'google': 990, 'email': 42, 'ok': 98}\n",
    "\n",
    "max_value = 0\n",
    "for key, value in stats.items ():\n",
    "    if value > max_value:\n",
    "        max_value = value\n",
    "        key_stats = key\n",
    "#print (max_value)\n",
    "print('Максимальный объем продаж на канале: ', key_stats)"
   ]
  },
  {
   "cell_type": "markdown",
   "id": "62a8a28b",
   "metadata": {},
   "source": [
    "# Задание 5"
   ]
  },
  {
   "cell_type": "markdown",
   "id": "510fcfc8",
   "metadata": {},
   "source": [
    "Дан список произвольной длины. Необходимо написать код, который на основе исходного списка составит словарь такого уровня вложенности, какова длина исхондого списка."
   ]
  },
  {
   "cell_type": "code",
   "execution_count": 123,
   "id": "7fa403cd",
   "metadata": {},
   "outputs": [
    {
     "name": "stdout",
     "output_type": "stream",
     "text": [
      "{'a': {'b': {'c': {'d': {'e': 'f'}}}}}\n"
     ]
    }
   ],
   "source": [
    "#my_list = ['2018-01-01', 'yandex', 'cpc', 100]\n",
    "#Результат: {'2018-01-01': {'yandex': {'cpc': 100}}}\n",
    "my_list = ['a', 'b', 'c', 'd', 'e', 'f']\n",
    "#Результат: {'a': {'b': {'c': {'d': {'e': 'f'}}}}}\n",
    "\n",
    "pointer = {}\n",
    "value = my_list[-1]\n",
    "\n",
    "r = range(len(my_list) -1, 0, -1) #идем по списку в обратном направлении, первый элемент - value словаря\n",
    "value = my_list[-1]\n",
    "for i in r:\n",
    "    #print(i)\n",
    "    pointer = {my_list[i - 1]:  value}\n",
    "    value = pointer\n",
    "    \n",
    "print(pointer)"
   ]
  },
  {
   "cell_type": "markdown",
   "id": "fcb454cf",
   "metadata": {},
   "source": [
    "# Задание 6"
   ]
  },
  {
   "cell_type": "markdown",
   "id": "3db55113",
   "metadata": {},
   "source": [
    "Дана книга рецептов с информацией о том, сколько ингредиентов нужно для приготовления блюда в расчете на одну порцию (пример данных представлен ниже).\n",
    "Напишите программу, которая будет запрашивать у пользователя количество порций для приготовления этих блюд и отображать информацию о суммарном количестве требуемых ингредиентов в указанном виде.\n",
    "\n",
    "*Внимание! Одинаковые ингридиенты с разными размерностями нужно считать раздельно!*"
   ]
  },
  {
   "cell_type": "code",
   "execution_count": 129,
   "id": "f0caa140",
   "metadata": {},
   "outputs": [
    {
     "name": "stdout",
     "output_type": "stream",
     "text": [
      "Введите количество порций: 10\n",
      "\n",
      "Ваш список: \n",
      "Сыр :  700 гр\n",
      "Томаты :  20 шт\n",
      "Огурцы :  200 гр\n",
      "Маслины :  100 гр\n",
      "Оливковое масло :  200 мл\n",
      "Салат :  100 гр\n",
      "Перец :  200 гр\n",
      "Колбаса :  300 гр\n",
      "Бекон :  300 гр\n",
      "Оливки :  100 гр\n",
      "Томаты :  200 гр\n",
      "Тесто :  1000 гр\n",
      "Вода :  2000 л\n",
      "Лимон :  10 шт\n",
      "Вода :  2000 мл\n",
      "Сахар :  100 гр\n",
      "Лайм :  200 гр\n"
     ]
    }
   ],
   "source": [
    "cook_book = {\n",
    "  'салат': [\n",
    "     {'ingridient_name': 'сыр', 'quantity': 50, 'measure': 'гр'},\n",
    "     {'ingridient_name': 'томаты', 'quantity': 2, 'measure': 'шт'},\n",
    "     {'ingridient_name': 'огурцы', 'quantity': 20, 'measure': 'гр'},\n",
    "     {'ingridient_name': 'маслины', 'quantity': 10, 'measure': 'гр'},\n",
    "     {'ingridient_name': 'оливковое масло', 'quantity': 20, 'measure': 'мл'},\n",
    "     {'ingridient_name': 'салат', 'quantity': 10, 'measure': 'гр'},\n",
    "     {'ingridient_name': 'перец', 'quantity': 20, 'measure': 'гр'}\n",
    "    ],\n",
    "  'пицца': [\n",
    "     {'ingridient_name': 'сыр', 'quantity': 20, 'measure': 'гр'},\n",
    "     {'ingridient_name': 'колбаса', 'quantity': 30, 'measure': 'гр'},\n",
    "     {'ingridient_name': 'бекон', 'quantity': 30, 'measure': 'гр'},\n",
    "     {'ingridient_name': 'оливки', 'quantity': 10, 'measure': 'гр'},\n",
    "     {'ingridient_name': 'томаты', 'quantity': 20, 'measure': 'гр'},\n",
    "     {'ingridient_name': 'тесто', 'quantity': 100, 'measure': 'гр'}, \n",
    "     {'ingridient_name': 'вода', 'quantity': 200, 'measure': 'л'}\n",
    "    ],\n",
    "  'лимонад': [\n",
    "     {'ingridient_name': 'лимон', 'quantity': 1, 'measure': 'шт'},\n",
    "     {'ingridient_name': 'вода', 'quantity': 200, 'measure': 'мл'},\n",
    "     {'ingridient_name': 'сахар', 'quantity': 10, 'measure': 'гр'},\n",
    "     {'ingridient_name': 'лайм', 'quantity': 20, 'measure': 'гр'},    \n",
    "    ]\n",
    "}\n",
    "qty = int(input(\"Введите количество порций: \"))\n",
    "\n",
    "total_ingr_list = [] #склеиваем все продукты в простой список\n",
    "for value in cook_book.values ():\n",
    "    total_ingr_list = total_ingr_list + value\n",
    "#print(total_ingr_list)\n",
    "\n",
    "result = {}\n",
    "# dict(key= name+meas)->dict{name, quantity, meas} - делаем из списка словарь с составным ключом из продукта и его меры\n",
    "for value in total_ingr_list:\n",
    "    key = value['ingridient_name'] + '_' + value['measure'] #составной ключ\n",
    "    if key in result:\n",
    "        result[key]['quantity'] = result[key]['quantity'] + value['quantity'] #если уже был такой продукт с такой мерой - накапливаем количество \n",
    "    else:\n",
    "        result[key] = {'ingridient_name': value['ingridient_name'], 'quantity': value['quantity'], 'measure': value['measure']}  #если это новый продукт с новой мерой - сохраняем в словарь\n",
    "\n",
    "print ('')\n",
    "print ('Ваш список: ')\n",
    "\n",
    "for value in result.values (): #красивый вывод\n",
    "    print(value['ingridient_name'].capitalize(),': ', value['quantity'] * qty, value['measure'])\n",
    "\n"
   ]
  }
 ],
 "metadata": {
  "kernelspec": {
   "display_name": "Python 3",
   "language": "python",
   "name": "python3"
  },
  "language_info": {
   "codemirror_mode": {
    "name": "ipython",
    "version": 3
   },
   "file_extension": ".py",
   "mimetype": "text/x-python",
   "name": "python",
   "nbconvert_exporter": "python",
   "pygments_lexer": "ipython3",
   "version": "3.8.8"
  }
 },
 "nbformat": 4,
 "nbformat_minor": 5
}
