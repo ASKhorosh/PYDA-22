{
 "cells": [
  {
   "cell_type": "markdown",
   "id": "6f243370",
   "metadata": {},
   "source": [
    "# Задание 1\n",
    "Напишите функцию, которая принимает на вход строку и проверяет является ли она валидным транспортным номером (1 буква, 3 цифры, 2 буквы, 2-3 цифры). Обратите внимание, что не все буквы кириллического алфавита используются в транспортных номерах.\n",
    "\n",
    "Если номер валиден, то функция должна возвращать отдельно номер и регион."
   ]
  },
  {
   "cell_type": "code",
   "execution_count": 61,
   "id": "c1bf36b6",
   "metadata": {},
   "outputs": [
    {
     "name": "stdout",
     "output_type": "stream",
     "text": [
      "Введите транспортный номер: М015ВЕ68\n",
      "Номер М015ВЕ68 валиден\n",
      "Регион:  ['68']\n"
     ]
    }
   ],
   "source": [
    "import re\n",
    "\n",
    "#М015ВЕ68\n",
    "\n",
    "number_car = input('Введите транспортный номер: ')\n",
    "\n",
    "def number_car_check(number):\n",
    "    re_number = '^[АВЕКМНОРСТУХ]\\d{3}(?<!000)[АВЕКМНОРСТУХ]{2}\\d{2,3}'\n",
    "    if re.match(re_number, number):\n",
    "        print('Номер {} валиден'.format(number))\n",
    "        print('Регион: ', re.findall(r'\\d{2,3}$', number))\n",
    "    else:\n",
    "        print ('Номер не валиден')\n",
    "        \n",
    "number_car_check(number_car)"
   ]
  },
  {
   "cell_type": "markdown",
   "id": "8f975614",
   "metadata": {},
   "source": [
    "# Задание 2\n",
    "Напишите функцию, которая будет удалять все последовательные повторы слов из заданной строки при помощи регулярных выражений."
   ]
  },
  {
   "cell_type": "code",
   "execution_count": 65,
   "id": "917350af",
   "metadata": {},
   "outputs": [
    {
     "data": {
      "text/plain": [
       "'Напишите функцию, которая будет удалять все последовательные повторы слов из заданой строки при помощи регулярных выражений.'"
      ]
     },
     "execution_count": 65,
     "metadata": {},
     "output_type": "execute_result"
    }
   ],
   "source": [
    "some_string = 'Напишите функцию функцию, которая будет будет будет будет удалять все все все все последовательные повторы слов из из из из заданной строки строки при помощи регулярных выражений.'\n",
    "\n",
    "def string_clear(string):\n",
    "    result = re.sub(r'(.+?)\\1+', r'\\1',string)\n",
    "    return result\n",
    "\n",
    "string_clear(some_string)"
   ]
  },
  {
   "cell_type": "markdown",
   "id": "77ee6c4a",
   "metadata": {},
   "source": [
    "# Задание 3\n",
    "Напишите функцию, которая будет возвращать акроним по переданной в нее строке со словами."
   ]
  },
  {
   "cell_type": "code",
   "execution_count": 71,
   "id": "97274afd",
   "metadata": {},
   "outputs": [
    {
     "data": {
      "text/plain": [
       "'ИТ'"
      ]
     },
     "execution_count": 71,
     "metadata": {},
     "output_type": "execute_result"
    }
   ],
   "source": [
    "some_words = 'Информационные технологии'\n",
    "\n",
    "def acronym(string):\n",
    "    letters = re.findall(r'(\\b\\w)', string)\n",
    "    #print(letters)\n",
    "    our_acronym = ''.join(letters)\n",
    "    return (our_acronym.upper())\n",
    "\n",
    "acronym(some_words)"
   ]
  },
  {
   "cell_type": "markdown",
   "id": "4a018679",
   "metadata": {},
   "source": [
    "# Задание 4\n",
    "Напишите функцию, которая будет принимать на вход список email-адресов и выводить их распределение по доменным зонам."
   ]
  },
  {
   "cell_type": "code",
   "execution_count": 112,
   "id": "96aefcba",
   "metadata": {
    "scrolled": false
   },
   "outputs": [
    {
     "name": "stdout",
     "output_type": "stream",
     "text": [
      "{'gmail.com': 2, 'test.in': 1, 'ya.ru': 2, 'mail.ru': 1}\n"
     ]
    }
   ],
   "source": [
    "emails = ['test@gmail.com', 'xyz@test.in', 'test@ya.ru', 'xyz@mail.ru', 'xyz@ya.ru', 'xyz@gmail.com']\n",
    "re_email = '[-a-z0-9_.]+@([-a-z0-9]+\\.[a-z]{2,6})$'\n",
    "\n",
    "domain_list = []\n",
    "domain_qty = {}\n",
    "\n",
    "for email in emails:\n",
    "    domain_list = (re.findall(re_email, email))\n",
    "    #print(domain_list)\n",
    "    for domain in domain_list:\n",
    "        if domain not in domain_qty.keys():\n",
    "            domain_qty.update({(domain): 1 })\n",
    "        else:\n",
    "            domain_qty[domain] = domain_qty[domain] + 1\n",
    "\n",
    "    \n",
    "    \n",
    "print (domain_qty)\n",
    "    "
   ]
  }
 ],
 "metadata": {
  "kernelspec": {
   "display_name": "Python 3",
   "language": "python",
   "name": "python3"
  },
  "language_info": {
   "codemirror_mode": {
    "name": "ipython",
    "version": 3
   },
   "file_extension": ".py",
   "mimetype": "text/x-python",
   "name": "python",
   "nbconvert_exporter": "python",
   "pygments_lexer": "ipython3",
   "version": "3.8.8"
  }
 },
 "nbformat": 4,
 "nbformat_minor": 5
}
