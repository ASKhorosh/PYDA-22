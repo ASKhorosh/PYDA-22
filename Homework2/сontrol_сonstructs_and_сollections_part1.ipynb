{
 "cells": [
  {
   "cell_type": "markdown",
   "id": "ff303e83",
   "metadata": {},
   "source": [
    "# Задание 1"
   ]
  },
  {
   "cell_type": "markdown",
   "id": "b4b923be",
   "metadata": {},
   "source": [
    "Дана переменная, в которой хранится слово из латинских букв. Напишите код, который выводит на экран:\n",
    "\n",
    "* среднюю букву, если число букв в слове нечетное;\n",
    "* две средних буквы, если число букв четное."
   ]
  },
  {
   "cell_type": "code",
   "execution_count": 31,
   "id": "ef77b13d",
   "metadata": {},
   "outputs": [
    {
     "name": "stdout",
     "output_type": "stream",
     "text": [
      "23\n"
     ]
    }
   ],
   "source": [
    "word = '1234'\n",
    "letter = int(len(word)/2)\n",
    "if len(word) % 2 == 0:\n",
    "      print (word [letter-1:letter+1])\n",
    "else: print (word [letter])"
   ]
  },
  {
   "cell_type": "markdown",
   "id": "49c7a69a",
   "metadata": {},
   "source": [
    "# Задание 2"
   ]
  },
  {
   "cell_type": "markdown",
   "id": "aaf436c2",
   "metadata": {},
   "source": [
    "Напишите программу, которая последовательно запрашивает у пользователя числа (по одному за раз) и после первого нуля выводит сумму всех ранее введенных чисел."
   ]
  },
  {
   "cell_type": "code",
   "execution_count": 37,
   "id": "b710bca8",
   "metadata": {},
   "outputs": [
    {
     "name": "stdout",
     "output_type": "stream",
     "text": [
      "Введите ваше число: 1\n",
      "Введите ваше число: 1\n",
      "Введите ваше число: 1\n",
      "Введите ваше число: 0\n",
      "Сумма:  3\n"
     ]
    }
   ],
   "source": [
    "number = 1\n",
    "sum_number = 0\n",
    "while number != 0:\n",
    "    number = int(input(\"Введите ваше число: \"))\n",
    "    sum_number = sum_number + number\n",
    "print ('Сумма: ',sum_number)"
   ]
  },
  {
   "cell_type": "markdown",
   "id": "57b9fccf",
   "metadata": {},
   "source": [
    "# Задание 3"
   ]
  },
  {
   "cell_type": "markdown",
   "id": "5146e015",
   "metadata": {},
   "source": [
    "Мы делаем MVP dating-сервиса, и у нас есть список парней и девушек.\n",
    "Выдвигаем гипотезу: лучшие рекомендации мы получим, если просто отсортируем имена по алфавиту и познакомим людей с одинаковыми индексами после сортировки! Но мы не будем никого знакомить, если кто-то может остаться без пары"
   ]
  },
  {
   "cell_type": "code",
   "execution_count": 55,
   "id": "fcb8d316",
   "metadata": {},
   "outputs": [
    {
     "name": "stdout",
     "output_type": "stream",
     "text": [
      "Вниание! Кто-то может остаться без пары\n"
     ]
    }
   ],
   "source": [
    "boys = ['Peter', 'Alex', 'John', 'Arthur']\n",
    "girls = ['Kate', 'Liza', 'Kira', 'Emma', 'Alina']\n",
    "#print (len(boys))\n",
    "#print (len(girls))\n",
    "\n",
    "if len(boys)== len(girls):\n",
    "    print('Идеальные пары:')\n",
    "    #составляем пары из двух списков\n",
    "    boys.sort()\n",
    "    girls.sort()\n",
    "    couple = zip(boys, girls)\n",
    "    for i in couple:\n",
    "        print(f'{i[0]} и {i[1]}')\n",
    "else: print('Вниание! Кто-то может остаться без пары')\n"
   ]
  },
  {
   "cell_type": "markdown",
   "id": "7041e137",
   "metadata": {},
   "source": [
    "# Задание 4"
   ]
  },
  {
   "cell_type": "markdown",
   "id": "016eb134",
   "metadata": {},
   "source": [
    "У нас есть список, содержащий информацию о среднедневной температуре в Фаренгейтах за произвольный период по странам (структура данных в примере). Необходимо написать код, который рассчитает среднюю температуру за период в Цельсиях(!) для каждой страны."
   ]
  },
  {
   "cell_type": "code",
   "execution_count": 186,
   "id": "7b11b47a",
   "metadata": {},
   "outputs": [
    {
     "name": "stdout",
     "output_type": "stream",
     "text": [
      "Thailand 1.0\n",
      "Цельсий Thailand -17.22222222222222\n",
      "Germany 56.839999999999996\n",
      "Цельсий Germany 13.799999999999997\n",
      "Russia 38.68571428571429\n",
      "Цельсий Russia 3.7142857142857166\n",
      "Poland 53.599999999999994\n",
      "Цельсий Poland 11.999999999999996\n"
     ]
    }
   ],
   "source": [
    "countries_temperature = [\n",
    "    ['Thailand', [1, 1, 1, 1, 1, 1, 1]],\n",
    "    ['Germany', [57.2, 55.4, 59, 59, 53.6]],\n",
    "    ['Russia', [35.6, 37.4, 39.2, 41, 42.8, 39.2, 35.6]],\n",
    "    ['Poland', [50, 50, 53.6, 57.2, 55.4, 55.4]]\n",
    "]\n",
    "\n",
    "for temperature in countries_temperature:\n",
    "    avg_temperature_F = sum (temperature[1]) / len (temperature[1])\n",
    "    print (temperature[0], avg_temperature_F)\n",
    "    avg_temperature_C = (avg_temperature_F-32) / 1.8\n",
    "    print ('Цельсий', temperature[0],  avg_temperature_C)"
   ]
  },
  {
   "cell_type": "markdown",
   "id": "ebe0bc07",
   "metadata": {},
   "source": [
    "# Задание 5"
   ]
  },
  {
   "cell_type": "markdown",
   "id": "e0bb2309",
   "metadata": {},
   "source": [
    "Дан поток логов по количеству просмотренных страниц для каждого пользователя. Вам необходимо написать алгоритм, который считает среднее значение просмотров на пользователя. Т. е. надо посчитать отношение суммы всех просмотров к количеству уникальных пользователей."
   ]
  },
  {
   "cell_type": "code",
   "execution_count": 190,
   "id": "7b79c2f6",
   "metadata": {},
   "outputs": [
    {
     "name": "stdout",
     "output_type": "stream",
     "text": [
      "Среднее количество просмотров на уникального пользователя:  23.25\n"
     ]
    }
   ],
   "source": [
    "stream = [\n",
    "    '2018-01-01,user1,3',\n",
    "    '2018-01-07,user1,4',\n",
    "    '2018-03-29,user1,1',\n",
    "    '2018-04-04,user1,13',\n",
    "    '2018-01-05,user2,7',\n",
    "    '2018-06-14,user3,4',\n",
    "    '2018-07-02,user3,10',\n",
    "    '2018-03-21,user4,19',\n",
    "    '2018-03-22,user4,4',\n",
    "    '2018-04-22,user4,8',\n",
    "    '2018-05-03,user4,9',\n",
    "    '2018-05-11,user4,11',\n",
    "]\n",
    "\n",
    "sum_view = 0\n",
    "for i in range(len(stream)):\n",
    "    a = stream[i] #забираем одну строку\n",
    "    b = a.split (',') #преобразовываем ее в список\n",
    "    sum_view = sum_view + int(b[2]) #считаем сумму просмотров\n",
    "    user_list.append(b[1]) #собираем массив юзеров\n",
    "   #  print (b [i+1])\n",
    "#print(user_list)\n",
    "user_set = set(user_list) #оставляем уникальных юзеров для просмотра количества \n",
    "print('Среднее количество просмотров на уникального пользователя: ', sum_view / len(user_set))\n",
    "\n",
    "\n"
   ]
  },
  {
   "cell_type": "markdown",
   "id": "f1a06c37",
   "metadata": {},
   "source": [
    "В данной задаче из stream есть дата, но она никак не используется. Это навело меня на мысль, что нам может потребоваться считать среднее количество просмотров за период: "
   ]
  },
  {
   "cell_type": "code",
   "execution_count": 205,
   "id": "9e310e53",
   "metadata": {},
   "outputs": [
    {
     "name": "stdout",
     "output_type": "stream",
     "text": [
      "Введите начало периода '%Y-%m-%d':2018-01-01\n",
      "Введите конец периода '%Y-%m-%d':2018-01-08\n",
      "Среднее количество просмотров на уникального пользователя за период с 2018-01-01 по 2018-01-08 :  3.5\n"
     ]
    }
   ],
   "source": [
    "import datetime\n",
    "\n",
    "stream = [\n",
    "    '2018-01-01,user1,3',\n",
    "    '2018-01-07,user1,4',\n",
    "    '2018-03-29,user1,1',\n",
    "    '2018-04-04,user1,13',\n",
    "    '2018-01-05,user2,7',\n",
    "    '2018-06-14,user3,4',\n",
    "    '2018-07-02,user3,10',\n",
    "    '2018-03-21,user4,19',\n",
    "    '2018-03-22,user4,4',\n",
    "    '2018-04-22,user4,8',\n",
    "    '2018-05-03,user4,9',\n",
    "    '2018-05-11,user4,11',\n",
    "]\n",
    "\n",
    "#запрашиваем период у пользователя\n",
    "start = str(input(\"Введите начало периода '%Y-%m-%d':\"))\n",
    "finish = str(input(\"Введите конец периода '%Y-%m-%d':\"))\n",
    "#преобразовываем период в даты\n",
    "start_date = datetime.datetime.strptime(start, '%Y-%m-%d').date()\n",
    "finish_date = datetime.datetime.strptime(finish, '%Y-%m-%d').date()\n",
    "\n",
    "sum_view = 0\n",
    "for i in range(len(stream)):\n",
    "    a = stream[i] #забираем одну строку\n",
    "    b = a.split (',') #преобразовываем ее в список\n",
    "    d = datetime.datetime.strptime(b[0], '%Y-%m-%d').date() #преобразовываем дату из списка\n",
    "    if d > finish_date or d < start_date: #проверяем вхождение даты в период\n",
    "        continue\n",
    "        \n",
    "    sum_view = sum_view + int(b[2])\n",
    "    user_list.append(b[1]) \n",
    "  #  print (b [i+1])\n",
    "#print(user_list)\n",
    "user_set = set(user_list)   \n",
    "print(f'Среднее количество просмотров на уникального пользователя за период с', start, 'по', finish, ': ', sum_view / len(user_set))"
   ]
  },
  {
   "cell_type": "markdown",
   "id": "a695cfcc",
   "metadata": {},
   "source": [
    "# Задание 6"
   ]
  },
  {
   "cell_type": "markdown",
   "id": "af54123f",
   "metadata": {},
   "source": [
    "Необходимо у пользователя запрашивать набор чисел разделенных пробелом. В результате в отсортированном порядке должны выводиться числа, которые повторяются в вводе более одного раза."
   ]
  },
  {
   "cell_type": "code",
   "execution_count": 159,
   "id": "96c69efb",
   "metadata": {},
   "outputs": [
    {
     "name": "stdout",
     "output_type": "stream",
     "text": [
      "Введите числа через пробел: 12 12 12 0 1 2 3 4 0 5 12\n",
      "0 12 "
     ]
    }
   ],
   "source": [
    "set_of_numbers = (input('Введите числа через пробел: ').split())\n",
    "set_of_numbers.sort()\n",
    "\n",
    "n = 0 #счетчик повторов\n",
    "for number in range(1, len(set_of_numbers)): \n",
    "    if set_of_numbers[number] == set_of_numbers[n]:\n",
    "        if number - n == 1:\n",
    "            print(set_of_numbers[number], end=' ')\n",
    "    else:\n",
    "        n = number"
   ]
  }
 ],
 "metadata": {
  "kernelspec": {
   "display_name": "Python 3",
   "language": "python",
   "name": "python3"
  },
  "language_info": {
   "codemirror_mode": {
    "name": "ipython",
    "version": 3
   },
   "file_extension": ".py",
   "mimetype": "text/x-python",
   "name": "python",
   "nbconvert_exporter": "python",
   "pygments_lexer": "ipython3",
   "version": "3.8.8"
  }
 },
 "nbformat": 4,
 "nbformat_minor": 5
}
