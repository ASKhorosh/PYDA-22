{
 "cells": [
  {
   "cell_type": "markdown",
   "id": "be5cdc69",
   "metadata": {},
   "source": [
    "# Задание 1\n",
    "Печатные газеты использовали свой формат дат для каждого выпуска. Для каждой газеты из списка напишите формат указанной даты для перевода в объект datetime:\n",
    "The Moscow Times - Wednesday, October 2, 2002\n",
    "The Guardian - Friday, 11.10.13\n",
    "Daily News - Thursday, 18 August 1977"
   ]
  },
  {
   "cell_type": "code",
   "execution_count": 5,
   "id": "2abd3871",
   "metadata": {},
   "outputs": [
    {
     "name": "stdout",
     "output_type": "stream",
     "text": [
      "The Moscow Times -  2002-10-02 00:00:00\n",
      "The Guardian -  2013-10-11 00:00:00\n",
      "Daily News -  1977-08-18 00:00:00\n"
     ]
    }
   ],
   "source": [
    "from datetime import datetime\n",
    "\n",
    "#The Moscow Times - Wednesday, October 2, 2002\n",
    "#The Guardian - Friday, 11.10.13 \n",
    "# Daily News - Thursday, 18 August 1977\n",
    "\n",
    "MT = datetime.strptime('Wednesday, October 2, 2002', '%A, %B %d, %Y')\n",
    "print('The Moscow Times - ', MT)\n",
    "\n",
    "G = datetime.strptime('Friday, 11.10.13', '%A, %d.%m.%y')\n",
    "print('The Guardian - ', G)\n",
    "\n",
    "DN = datetime.strptime('Thursday, 18 August 1977', '%A, %d %B %Y')\n",
    "print('Daily News - ', DN)"
   ]
  },
  {
   "cell_type": "markdown",
   "id": "251428cd",
   "metadata": {},
   "source": [
    "# Задание 2\n",
    "Дан поток дат в формате YYYY-MM-DD, в которых встречаются некорректные значения:\n",
    "stream = [‘2018-04-02’, ‘2018-02-29’, ‘2018-19-02’]\n",
    "\n",
    "Напишите функцию, которая проверяет эти даты на корректность. Т. е. для каждой даты возвращает True (дата корректна) или False (некорректная дата).\n"
   ]
  },
  {
   "cell_type": "code",
   "execution_count": 9,
   "id": "cc49e671",
   "metadata": {},
   "outputs": [
    {
     "name": "stdout",
     "output_type": "stream",
     "text": [
      "[True, False, False, True]\n"
     ]
    }
   ],
   "source": [
    "stream = ['2018-04-02', '2018-02-29', '2018-19-02', '2020-06-25']\n",
    "\n",
    "def check_date(d_stream):\n",
    "    result = []\n",
    "    for d in d_stream:\n",
    "        try:\n",
    "            checked_date = datetime.strptime(d, '%Y-%m-%d')\n",
    "            result.append(True)\n",
    "        except:\n",
    "            result.append(False)\n",
    "       \n",
    "    return result\n",
    "\n",
    "print(check_date(stream))"
   ]
  },
  {
   "cell_type": "markdown",
   "id": "19595aa0",
   "metadata": {},
   "source": [
    "# Задание 3\n",
    "Напишите функцию date_range, которая возвращает список дат за период от start_date до end_date. Даты должны вводиться в формате YYYY-MM-DD. В случае неверного формата или при start_date > end_date должен возвращаться пустой список."
   ]
  },
  {
   "cell_type": "code",
   "execution_count": 24,
   "id": "15789859",
   "metadata": {},
   "outputs": [
    {
     "name": "stdout",
     "output_type": "stream",
     "text": [
      "Введите начальную дату YYYY-MM-DD: 2021-01-01\n",
      "Введите конечную дату YYYY-MM-DD: 2021-01-05\n"
     ]
    },
    {
     "data": {
      "text/plain": [
       "['2021-01-02', '2021-01-03', '2021-01-04', '2021-01-05', '2021-01-06']"
      ]
     },
     "execution_count": 24,
     "metadata": {},
     "output_type": "execute_result"
    }
   ],
   "source": [
    "from datetime import timedelta\n",
    "\n",
    "start = input('Введите начальную дату YYYY-MM-DD: ')\n",
    "end = input('Введите конечную дату YYYY-MM-DD: ')\n",
    "\n",
    "def date_range(start_date, end_date):\n",
    "    days = []\n",
    "    try:\n",
    "        start_datetime = datetime.strptime(start,'%Y-%m-%d')\n",
    "        end_datetime = datetime.strptime(end,'%Y-%m-%d')\n",
    "        if start_date <= end_date:\n",
    "            our_date = start_datetime\n",
    "            while our_date <= end_datetime:\n",
    "                    our_date = our_date + timedelta(days=1)\n",
    "                    our_str_date = datetime.strftime(our_date,'%Y-%m-%d')\n",
    "                    days.append(our_str_date)\n",
    "        else: print('Конечная дата больше начальной')    \n",
    "    except:\n",
    "         print('Неверный формат')    \n",
    "    finally:   \n",
    "        return(days)\n",
    "\n",
    "date_range(start, end)"
   ]
  },
  {
   "cell_type": "markdown",
   "id": "68f86012",
   "metadata": {},
   "source": [
    "# Задание 4 (бонусное)\n",
    "Ваш коллега прислал код функции:"
   ]
  },
  {
   "cell_type": "code",
   "execution_count": 31,
   "id": "157e45e6",
   "metadata": {},
   "outputs": [],
   "source": [
    "DEFAULT_USER_COUNT = 3\n",
    "\n",
    "def delete_and_return_last_user(region, default_list=['A100', 'A101', 'A102']):\n",
    "\n",
    "# Удаляет из списка default_list последнего пользователя\n",
    "# и возвращает ID нового последнего пользователя.\n",
    "\n",
    "    element_to_delete = default_list[-1]\n",
    "    default_list.remove(element_to_delete)\n",
    "\n",
    "    return default_list[DEFAULT_USER_COUNT-2]"
   ]
  },
  {
   "cell_type": "markdown",
   "id": "54538fcf",
   "metadata": {},
   "source": [
    "При однократном вызове этой функции все работает корректно:\n",
    "delete_and_return_last_user(1)\n",
    "‘A101’\n",
    "\n",
    "Однако, при повторном вызове получается ошибка IndexError: list index out of range.\n",
    "\n",
    "#### Задание:\n",
    "1. Что значит ошибка list index out of range?\n",
    "##### Ответ: \n",
    "Индекс ушел за границы массива\n",
    "\n",
    "\n",
    "2. Почему при первом запуске функция работает корректно, а при втором - нет?\n",
    "##### Ответ: \n",
    "После первого удаления количество элементов массива сократилось и теперь индекса -2 больше не существует"
   ]
  }
 ],
 "metadata": {
  "kernelspec": {
   "display_name": "Python 3",
   "language": "python",
   "name": "python3"
  },
  "language_info": {
   "codemirror_mode": {
    "name": "ipython",
    "version": 3
   },
   "file_extension": ".py",
   "mimetype": "text/x-python",
   "name": "python",
   "nbconvert_exporter": "python",
   "pygments_lexer": "ipython3",
   "version": "3.8.8"
  }
 },
 "nbformat": 4,
 "nbformat_minor": 5
}
