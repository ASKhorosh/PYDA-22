{
 "cells": [
  {
   "cell_type": "markdown",
   "id": "0e1f2888",
   "metadata": {},
   "source": [
    "# Задание 1"
   ]
  },
  {
   "cell_type": "markdown",
   "id": "3866a46b",
   "metadata": {},
   "source": [
    "Даны 2 переменных, в которых хранятся строки произвольной длины: phrase_1 и phrase_2.\n",
    "Напишите код, который проверяет какая из этих строк длиннее."
   ]
  },
  {
   "cell_type": "code",
   "execution_count": 6,
   "id": "60ed8d14",
   "metadata": {},
   "outputs": [
    {
     "name": "stdout",
     "output_type": "stream",
     "text": [
      "Фраза 1 равна фразе 2\n"
     ]
    }
   ],
   "source": [
    "phrase_1 = 'Насколько проще было бы писать программы, если бы не заказчики'\n",
    "phrase_2 = 'Насколько проще было бы писать программы, если бы не заказчики'\n",
    "if phrase_1 > phrase_2:\n",
    "    print ('Фраза 1 длиннее фразы 2')\n",
    "elif phrase_1 < phrase_2:\n",
    "    print ('Фраза 2 длиннее фразы 1')\n",
    "else: print ('Фраза 1 равна фразе 2')"
   ]
  },
  {
   "cell_type": "markdown",
   "id": "a812ead2",
   "metadata": {},
   "source": [
    "# Задание 2"
   ]
  },
  {
   "cell_type": "markdown",
   "id": "e6875a75",
   "metadata": {},
   "source": [
    "Дана переменная, в которой хранится четырехзначное число (год). Необходимо написать программу, которая выведет, является ли данный год високосным или обычным."
   ]
  },
  {
   "cell_type": "code",
   "execution_count": 13,
   "id": "f27a6807",
   "metadata": {},
   "outputs": [
    {
     "name": "stdout",
     "output_type": "stream",
     "text": [
      "Обычный год\n"
     ]
    }
   ],
   "source": [
    "year = 1998\n",
    "if year % 4 == 0:\n",
    "    print ('Високосный год')\n",
    "else: print ('Обычный год')"
   ]
  },
  {
   "cell_type": "markdown",
   "id": "6180da9b",
   "metadata": {},
   "source": [
    "# Задание 3"
   ]
  },
  {
   "cell_type": "markdown",
   "id": "5c2d0947",
   "metadata": {},
   "source": [
    "Необходимо написать программу, которая будет запрашивать у пользователя месяц и дату рождения и выводить соответствующий знак зодиака."
   ]
  },
  {
   "cell_type": "code",
   "execution_count": 74,
   "id": "c4084ea4",
   "metadata": {},
   "outputs": [
    {
     "name": "stdout",
     "output_type": "stream",
     "text": [
      "Введите день рождения: 01\n",
      "Введите месяц рождения цифрой: 01\n",
      "Ваш знак зодиака: Козерог\n"
     ]
    }
   ],
   "source": [
    "import datetime\n",
    "#справочник знаков зодиака\n",
    "zodiac = ( ['Водолей', '2021-01-21', '2021-02-19'],\n",
    "    ['Рыбы', '2021-02-20', '2021-03-20'],\n",
    "    ['Овен','2021-03-21', '2021-04-20'],\n",
    "    ['Телец', '2021-04-21', '2021-05-21'],\n",
    "    ['Близнецы', '2021-05-22', '2021-06-21'],\n",
    "    ['Рак', '2021-06-22', '2021-07-22'],\n",
    "    ['Лев', '2021-07-23', '2021-08-21'],\n",
    "    ['Дева', '2021-08-22', '2021-09-23'],\n",
    "    ['Весы', '2021-09-24', '2021-10-23'],\n",
    "    ['Скорпион', '2021-10-24', '2021-11-22'],\n",
    "    ['Стрелец', '2021-11-23', '2021-12-22'],\n",
    "    ['Козерог', '2021-12-23', '2021-01-20'], )\n",
    "#print (zodiac)\n",
    "\n",
    "\n",
    "date = str(int(input(\"Введите день рождения: \")))\n",
    "month = str(int(input(\"Введите месяц рождения цифрой: \")))\n",
    "\n",
    "#преобразовываем ввод пользователя в дату\n",
    "zodiac_date_str = '2021' +'-'+ month +'-'+ date \n",
    "zodiac_date = datetime.datetime.strptime(zodiac_date_str, '%Y-%m-%d').date()\n",
    "\n",
    "#print (zodiac_date_str)\n",
    "#print (zodiac_date)\n",
    "\n",
    "finded_zodiac = zodiac[0]\n",
    "for zodiac_value in zodiac: #перебираем справочник\n",
    "    zodiac_date_start = datetime.datetime.strptime(zodiac_value[1], '%Y-%m-%d').date()\n",
    "    zodiac_date_finish = datetime.datetime.strptime((zodiac_value[2]), '%Y-%m-%d').date()\n",
    "\n",
    "    finded_zodiac = zodiac_value\n",
    "    #ищем дату пользователя в справочнике\n",
    "    if (zodiac_date_start < zodiac_date and zodiac_date_finish > zodiac_date):\n",
    "        break\n",
    "print   ('Ваш знак зодиака: '+(finded_zodiac[0]))    "
   ]
  },
  {
   "cell_type": "markdown",
   "id": "1590bf8d",
   "metadata": {},
   "source": [
    "(*) На момент выполнения задания я уже прошла лекции по спискам и циклам, и совесть не позволила мне писать в этой задаче 12 if'ов. Однако, в моей реализации все равно много допущений и не учтен високосный год"
   ]
  },
  {
   "cell_type": "markdown",
   "id": "a885f81d",
   "metadata": {},
   "source": [
    "# Задание 4"
   ]
  },
  {
   "cell_type": "markdown",
   "id": "3ee60f45",
   "metadata": {},
   "source": [
    "Вам нужно написать программу для подбора упаковок по размерам товара. Размеры (ширина, длина, высота) хранятся в переменных (в сантиметрах).\n",
    "* Коробка 1 - меньше 15 см\n",
    "* Коробка 2 - от 15 до 50 см\n",
    "* Коробка для лыж - больше 200 см\n",
    "* Коробка 3 - остальное"
   ]
  },
  {
   "cell_type": "code",
   "execution_count": 132,
   "id": "aedb7796",
   "metadata": {},
   "outputs": [
    {
     "name": "stdout",
     "output_type": "stream",
     "text": [
      "Ищите упаковку для лыж\n"
     ]
    }
   ],
   "source": [
    "width = 45\n",
    "length = 200\n",
    "height = 4\n",
    "\n",
    "if length >= 200:\n",
    "        print ('Ищите упаковку для лыж')\n",
    "elif (width < 15) and (length < 15) and (height < 15):\n",
    "        print ('Вам подойдет коробка №1')\n",
    "elif ((width > 15) and (width < 50)) or ((length > 15) and (length < 50)) or ((height > 15) and (height < 50)):\n",
    "        print ('Вам нужна коробка №2')\n",
    "else: print ('Возьмите коробку №3')"
   ]
  },
  {
   "cell_type": "markdown",
   "id": "2b8b795e",
   "metadata": {},
   "source": [
    "# Задание 5"
   ]
  },
  {
   "cell_type": "markdown",
   "id": "ff08a375",
   "metadata": {},
   "source": [
    "Дана переменная, в которой хранится шестизначное число (номер проездного билета). Напишите программу, которая будет определять, является ли данный билет \"счастливым\". Билет считается счастливым, если сумма первых трех цифр совпадает с суммой последних трех цифр номера."
   ]
  },
  {
   "cell_type": "code",
   "execution_count": 147,
   "id": "905f7490",
   "metadata": {},
   "outputs": [
    {
     "name": "stdout",
     "output_type": "stream",
     "text": [
      "Ура! Счастливый билет\n"
     ]
    }
   ],
   "source": [
    "ticket = 111111\n",
    "first_half = int(str(ticket)[0])+int(str(ticket)[1])+int(str(ticket)[2])  #вычисляем сумму первой половины\n",
    "#print (first_half)\n",
    "last_half = int(str(ticket)[-1])+int(str(ticket)[-2])+int(str(ticket)[-3]) #вычисляем сумму второй половины\n",
    "#print (last_half)\n",
    "if first_half == last_half:\n",
    "    print ('Ура! Счастливый билет')\n",
    "else: print ('Жаль. Несчастливый билет')"
   ]
  },
  {
   "cell_type": "markdown",
   "id": "8acd5fa4",
   "metadata": {},
   "source": [
    "# Задание 6"
   ]
  },
  {
   "cell_type": "markdown",
   "id": "df941361",
   "metadata": {},
   "source": [
    "Напишите программу, которая сможет вычислять площади трех фигур (круг, треугольник и прямоугольник). Тип фигуры запрашиваем через пользовательский ввод, после чего делаем запрос характеристик фигуры:\n",
    "\n",
    "* если пользователь выбрал круг, запрашиваем его радиус,\n",
    "* если треугольник – длины трех его сторон;\n",
    "* если прямоугольник – длины двух его сторон."
   ]
  },
  {
   "cell_type": "code",
   "execution_count": 157,
   "id": "9998ddf8",
   "metadata": {},
   "outputs": [
    {
     "name": "stdout",
     "output_type": "stream",
     "text": [
      "Выберите тип фигуры: 1-Круг, 2-Треугольник, 3-Прямоугольник --> 3\n",
      "Введите длину стороны a: 2\n",
      "Введите длину стороны b: 2\n",
      "Площадь фигуры 3 равна 4.0\n"
     ]
    }
   ],
   "source": [
    "type_of_shape = int(input(\"Выберите тип фигуры: 1-Круг, 2-Треугольник, 3-Прямоугольник --> \"))\n",
    "if type_of_shape == 1:\n",
    "    radius = float(input(\"Введите радиус круга: \"))\n",
    "    s = 3,14*radius**2 #площадь\n",
    "elif type_of_shape == 2:\n",
    "    a = float(input(\"Введите длину стороны a: \"))\n",
    "    b = float(input(\"Введите длину стороны b: \"))\n",
    "    c = float(input(\"Введите длину стороны c: \"))\n",
    "    p = (a+b+c)/2 #полупериметр\n",
    "    from math import sqrt\n",
    "    s = sqrt(p * (p - a) * (p - b) * (p - c))\n",
    "elif type_of_shape == 3:\n",
    "    a = float(input(\"Введите длину стороны a: \"))\n",
    "    b = float(input(\"Введите длину стороны b: \"))\n",
    "    s = a*b #площадь\n",
    "print (f'Площадь фигуры {type_of_shape} равна {s}')"
   ]
  }
 ],
 "metadata": {
  "kernelspec": {
   "display_name": "Python 3",
   "language": "python",
   "name": "python3"
  },
  "language_info": {
   "codemirror_mode": {
    "name": "ipython",
    "version": 3
   },
   "file_extension": ".py",
   "mimetype": "text/x-python",
   "name": "python",
   "nbconvert_exporter": "python",
   "pygments_lexer": "ipython3",
   "version": "3.8.8"
  }
 },
 "nbformat": 4,
 "nbformat_minor": 5
}
