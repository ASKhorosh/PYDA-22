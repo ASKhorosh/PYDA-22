{
 "cells": [
  {
   "cell_type": "markdown",
   "id": "f9ef8ce4",
   "metadata": {},
   "source": [
    "# Задание 1\n",
    "Напишите функцию, которая возвращает название валюты (поле ‘Name’) с максимальным значением курса с помощью сервиса www.cbr-xml-daily.ru...ly_json.js"
   ]
  },
  {
   "cell_type": "code",
   "execution_count": 22,
   "id": "c5d7906e",
   "metadata": {},
   "outputs": [
    {
     "name": "stdout",
     "output_type": "stream",
     "text": [
      "Японских иен 103.1207\n"
     ]
    }
   ],
   "source": [
    "from libs.exchange import Rate\n",
    "\n",
    "def max_rate(self):\n",
    "    response = self.exchange_rates()\n",
    "    max_rate = 0\n",
    "    for row in response.values():\n",
    "        value = row['Value']\n",
    "        if max_rate <= value:\n",
    "            max_rate = value\n",
    "            name = row['Name']\n",
    "    print(row['Name'], max_rate)\n",
    "    \n",
    "r = Rate()\n",
    "max_rate(r)"
   ]
  }
 ],
 "metadata": {
  "kernelspec": {
   "display_name": "Python 3",
   "language": "python",
   "name": "python3"
  },
  "language_info": {
   "codemirror_mode": {
    "name": "ipython",
    "version": 3
   },
   "file_extension": ".py",
   "mimetype": "text/x-python",
   "name": "python",
   "nbconvert_exporter": "python",
   "pygments_lexer": "ipython3",
   "version": "3.8.8"
  }
 },
 "nbformat": 4,
 "nbformat_minor": 5
}
