{
 "cells": [
  {
   "cell_type": "markdown",
   "id": "b9a0d3af",
   "metadata": {},
   "source": [
    "# Домашнее задание \n",
    "\n",
    "1. Переведите содержимое файла purchase_log.txt в словарь purchases вида:\n",
    "{‘1840e0b9d4’: ‘Продукты’, …}\n",
    "\n",
    "2. Для каждого user_id в файле visit_log.csv определите третий столбец с категорией покупки (если покупка была, сам файл visit_log.csv изменять не надо). Запишите в файл funnel.csv визиты из файла visit_log.csv, в которых были покупки с указанием категории.\n",
    "#### Учтите условия на данные:\n",
    "содержимое purchase_log.txt помещается в оперативную память компьютера\n",
    "содержимое visit_log.csv - нет; используйте только построчную обработку этого файла"
   ]
  },
  {
   "cell_type": "code",
   "execution_count": 41,
   "id": "7cb7b1eb",
   "metadata": {},
   "outputs": [
    {
     "name": "stdout",
     "output_type": "stream",
     "text": [
      "purchase_log ['{\"user_id\": \"user_id\", \"category\": \"category\"}\\n', '{\"user_id\": \"1840e0b9d4\", \"category\": \"Продукты\"}\\n', '{\"user_id\": \"4e4f90fcfb\", \"category\": \"Электроника\"}\\n', '{\"user_id\": \"afea8d72fc\", \"category\": \"Электроника\"}\\n', '{\"user_id\": \"373a6055fe\", \"category\": \"Бытовая техника\"}\\n']\n",
      "visit_log ['user_id,source\\n', '6450655ae8,other\\n', 'b4ea53e670,other\\n', '0e37347152,other\\n', '96064ae9e0,other\\n']\n",
      "funnel ['user_id,source,category\\n', '1840e0b9d4,other,Продукты\\n', '4e4f90fcfb,context,Электроника\\n', 'afea8d72fc,other,Электроника\\n', '2824221f38,email,Продукты\\n']\n"
     ]
    }
   ],
   "source": [
    "import json\n",
    "purchases  = {}\n",
    "with open('purchase_log.txt', encoding = 'utf-8') as p: #Задание 1\n",
    "    for line in p:\n",
    "        line = line.strip()\n",
    "        purchase_dict = json.loads(line)\n",
    "        purchases [purchase_dict['user_id']] = purchase_dict['category']\n",
    "        \n",
    "        \n",
    "with open('visit_log.csv',encoding=\"utf-8\") as v: #Задание 2\n",
    "    with open('funnel.csv',\"w\") as f:\n",
    "        for line in v:\n",
    "            check_line = line.strip().split(',')\n",
    "            category = purchases.get(check_line[0])\n",
    "            if category != None:\n",
    "                check_line.append(category)\n",
    "                new_line = ','.join(check_line) + \"\\n\"\n",
    "                f.write(new_line)\n",
    "                \n",
    "#вывод для проверки\n",
    "\n",
    "        \n",
    "with open('purchase_log.txt', encoding = 'utf-8') as p:\n",
    "    print('purchase_log',[next(p) for x in range(5)])\n",
    "    \n",
    "with open('visit_log.csv',encoding=\"utf-8\") as v:\n",
    "    print('visit_log',[next(v) for x in range(5)])\n",
    "    \n",
    "with open('funnel.csv') as f:\n",
    "    print('funnel',[next(f) for x in range(5)])\n",
    "\n"
   ]
  }
 ],
 "metadata": {
  "kernelspec": {
   "display_name": "Python 3",
   "language": "python",
   "name": "python3"
  },
  "language_info": {
   "codemirror_mode": {
    "name": "ipython",
    "version": 3
   },
   "file_extension": ".py",
   "mimetype": "text/x-python",
   "name": "python",
   "nbconvert_exporter": "python",
   "pygments_lexer": "ipython3",
   "version": "3.8.8"
  }
 },
 "nbformat": 4,
 "nbformat_minor": 5
}
